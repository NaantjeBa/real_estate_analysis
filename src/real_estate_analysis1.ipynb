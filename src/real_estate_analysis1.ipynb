{
 "cells": [
  {
   "cell_type": "code",
   "execution_count": 1,
   "metadata": {},
   "outputs": [],
   "source": [
    "import os\n",
    "import pandas as pd\n",
    "import matplotlib.pyplot as plt\n",
    "import seaborn as sns\n",
    "from IPython.display import HTML\n",
    "import matplotlib\n",
    "import numpy as np"
   ]
  },
  {
   "cell_type": "code",
   "execution_count": 2,
   "metadata": {},
   "outputs": [],
   "source": [
    "df_verhuurd = pd.read_csv('C:\\\\Users\\\\jniens\\\\GoogleDrive\\\\Python_Projects\\\\real_estate_analysis\\\\data_files\\\\csv\\\\verhuurde_woningen_driemaanden.csv', sep=';')\n",
    "df_verkocht = pd.read_csv('C:\\\\Users\\\\jniens\\\\GoogleDrive\\\\Python_Projects\\\\real_estate_analysis\\\\data_files\\\\csv\\\\verkochte_woningen_driemaanden.csv', sep=';')\n",
    "df_stadsdelen = pd.read_csv('C:\\\\Users\\\\jniens\\\\GoogleDrive\\\\Python_Projects\\\\real_estate_analysis\\\\data_files\\\\csv\\\\dim_stadsdelen3.csv', sep=';')"
   ]
  },
  {
   "cell_type": "code",
   "execution_count": 3,
   "metadata": {},
   "outputs": [],
   "source": [
    "df_verkocht['Huisnr.'] = df_verkocht['Huisnr.'].fillna(0).astype(int).astype(str)\n",
    "df_verkocht['Toev.'] = df_verkocht['Toev.'].fillna('')"
   ]
  },
  {
   "cell_type": "code",
   "execution_count": 4,
   "metadata": {},
   "outputs": [],
   "source": [
    "df_verkocht['id'] = df_verkocht.Straat + df_verkocht['Huisnr.'].astype(int).astype(str) #+ df_verkocht['Toev.']"
   ]
  },
  {
   "cell_type": "code",
   "execution_count": 5,
   "metadata": {},
   "outputs": [],
   "source": [
    "cols = ['id', 'Postcode', 'Makelaar', 'Huidige prijs', 'Koop conditie', 'Prijs per m2', \n",
    "        'Transactie prijs / huur', 'Transactieprijs per m2', 'Huidige huur', 'Huur conditie', 'Datum aanmelding',\n",
    "       'Transactiedatum', 'Aantal kamers', 'Soort OG', 'Soort appartement', 'Status']\n",
    "df_verkocht_subset = df_verkocht[cols]"
   ]
  },
  {
   "cell_type": "code",
   "execution_count": 6,
   "metadata": {},
   "outputs": [
    {
     "name": "stderr",
     "output_type": "stream",
     "text": [
      "c:\\users\\jniens\\googledrive\\python_projects\\real_estate_analysis\\real_estate_venv\\lib\\site-packages\\pandas\\core\\indexing.py:376: SettingWithCopyWarning: \n",
      "A value is trying to be set on a copy of a slice from a DataFrame.\n",
      "Try using .loc[row_indexer,col_indexer] = value instead\n",
      "\n",
      "See the caveats in the documentation: http://pandas.pydata.org/pandas-docs/stable/user_guide/indexing.html#returning-a-view-versus-a-copy\n",
      "  self.obj[key] = _infer_fill_value(value)\n",
      "c:\\users\\jniens\\googledrive\\python_projects\\real_estate_analysis\\real_estate_venv\\lib\\site-packages\\pandas\\core\\indexing.py:494: SettingWithCopyWarning: \n",
      "A value is trying to be set on a copy of a slice from a DataFrame.\n",
      "Try using .loc[row_indexer,col_indexer] = value instead\n",
      "\n",
      "See the caveats in the documentation: http://pandas.pydata.org/pandas-docs/stable/user_guide/indexing.html#returning-a-view-versus-a-copy\n",
      "  self.obj[item] = s\n"
     ]
    }
   ],
   "source": [
    "\"Extract number from Postcode column\"\n",
    "df_verkocht_subset.loc[:, 'Postcode_cijfers'] = df_verkocht_subset.Postcode.str[:4].astype(int).copy()"
   ]
  },
  {
   "cell_type": "code",
   "execution_count": 7,
   "metadata": {},
   "outputs": [],
   "source": [
    "col_name_dict = {'Huidige prijs' : 'huidige_prijs_number', \n",
    "                 'Prijs per m2' : 'prijs_per_m2_number' ,\n",
    "                'Transactie prijs / huur' : 'transactieprijs_huur_number', \n",
    "                 'Huidige huur' : 'huidige_huur_number',\n",
    "                'Transactieprijs per m2' : 'transactieprijs_per_m2_number'}"
   ]
  },
  {
   "cell_type": "code",
   "execution_count": 8,
   "metadata": {},
   "outputs": [
    {
     "name": "stderr",
     "output_type": "stream",
     "text": [
      "c:\\users\\jniens\\googledrive\\python_projects\\real_estate_analysis\\real_estate_venv\\lib\\site-packages\\ipykernel_launcher.py:5: SettingWithCopyWarning: \n",
      "A value is trying to be set on a copy of a slice from a DataFrame.\n",
      "Try using .loc[row_indexer,col_indexer] = value instead\n",
      "\n",
      "See the caveats in the documentation: http://pandas.pydata.org/pandas-docs/stable/user_guide/indexing.html#returning-a-view-versus-a-copy\n",
      "  \"\"\"\n",
      "c:\\users\\jniens\\googledrive\\python_projects\\real_estate_analysis\\real_estate_venv\\lib\\site-packages\\ipykernel_launcher.py:6: SettingWithCopyWarning: \n",
      "A value is trying to be set on a copy of a slice from a DataFrame.\n",
      "Try using .loc[row_indexer,col_indexer] = value instead\n",
      "\n",
      "See the caveats in the documentation: http://pandas.pydata.org/pandas-docs/stable/user_guide/indexing.html#returning-a-view-versus-a-copy\n",
      "  \n"
     ]
    }
   ],
   "source": [
    "\"Convert euro column to type number\"\n",
    "for cur_col, new_col in col_name_dict.items():\n",
    "    \n",
    "    df_verkocht_subset[new_col] = df_verkocht_subset[cur_col].str.replace('€', '') \\\n",
    "    .str.replace(',', '')\n",
    "    df_verkocht_subset[new_col] = pd.to_numeric(df_verkocht_subset[new_col], errors='coerce')\n"
   ]
  },
  {
   "cell_type": "code",
   "execution_count": 9,
   "metadata": {},
   "outputs": [
    {
     "data": {
      "text/html": [
       "<div>\n",
       "<style scoped>\n",
       "    .dataframe tbody tr th:only-of-type {\n",
       "        vertical-align: middle;\n",
       "    }\n",
       "\n",
       "    .dataframe tbody tr th {\n",
       "        vertical-align: top;\n",
       "    }\n",
       "\n",
       "    .dataframe thead th {\n",
       "        text-align: right;\n",
       "    }\n",
       "</style>\n",
       "<table border=\"1\" class=\"dataframe\">\n",
       "  <thead>\n",
       "    <tr style=\"text-align: right;\">\n",
       "      <th></th>\n",
       "      <th>postcode</th>\n",
       "      <th>stadsdeel</th>\n",
       "    </tr>\n",
       "  </thead>\n",
       "  <tbody>\n",
       "    <tr>\n",
       "      <td>0</td>\n",
       "      <td>1011</td>\n",
       "      <td>Centrum</td>\n",
       "    </tr>\n",
       "    <tr>\n",
       "      <td>1</td>\n",
       "      <td>1012</td>\n",
       "      <td>Centrum</td>\n",
       "    </tr>\n",
       "    <tr>\n",
       "      <td>2</td>\n",
       "      <td>1013</td>\n",
       "      <td>Centrum</td>\n",
       "    </tr>\n",
       "    <tr>\n",
       "      <td>3</td>\n",
       "      <td>1014</td>\n",
       "      <td>Centrum</td>\n",
       "    </tr>\n",
       "    <tr>\n",
       "      <td>4</td>\n",
       "      <td>1015</td>\n",
       "      <td>Centrum</td>\n",
       "    </tr>\n",
       "  </tbody>\n",
       "</table>\n",
       "</div>"
      ],
      "text/plain": [
       "   postcode stadsdeel\n",
       "0      1011   Centrum\n",
       "1      1012   Centrum\n",
       "2      1013   Centrum\n",
       "3      1014   Centrum\n",
       "4      1015   Centrum"
      ]
     },
     "execution_count": 9,
     "metadata": {},
     "output_type": "execute_result"
    }
   ],
   "source": [
    "df_stadsdelen.head()"
   ]
  },
  {
   "cell_type": "code",
   "execution_count": 10,
   "metadata": {},
   "outputs": [],
   "source": [
    "df_verkocht_subset = df_verkocht_subset.merge(df_stadsdelen, left_on='Postcode_cijfers', right_on='postcode', how='left')"
   ]
  },
  {
   "cell_type": "code",
   "execution_count": 11,
   "metadata": {},
   "outputs": [],
   "source": [
    "df_verkocht_groupby = df_verkocht_subset.groupby(['stadsdeel', 'Soort OG'])['transactieprijs_per_m2_number'].agg(['count', 'mean'])"
   ]
  },
  {
   "cell_type": "code",
   "execution_count": 12,
   "metadata": {},
   "outputs": [
    {
     "data": {
      "text/html": [
       "<div>\n",
       "<style scoped>\n",
       "    .dataframe tbody tr th:only-of-type {\n",
       "        vertical-align: middle;\n",
       "    }\n",
       "\n",
       "    .dataframe tbody tr th {\n",
       "        vertical-align: top;\n",
       "    }\n",
       "\n",
       "    .dataframe thead tr th {\n",
       "        text-align: left;\n",
       "    }\n",
       "\n",
       "    .dataframe thead tr:last-of-type th {\n",
       "        text-align: right;\n",
       "    }\n",
       "</style>\n",
       "<table border=\"1\" class=\"dataframe\">\n",
       "  <thead>\n",
       "    <tr>\n",
       "      <th></th>\n",
       "      <th colspan=\"2\" halign=\"left\">count</th>\n",
       "      <th colspan=\"2\" halign=\"left\">mean</th>\n",
       "    </tr>\n",
       "    <tr>\n",
       "      <th>Soort OG</th>\n",
       "      <th>Appartement</th>\n",
       "      <th>Woonhuis</th>\n",
       "      <th>Appartement</th>\n",
       "      <th>Woonhuis</th>\n",
       "    </tr>\n",
       "    <tr>\n",
       "      <th>stadsdeel</th>\n",
       "      <th></th>\n",
       "      <th></th>\n",
       "      <th></th>\n",
       "      <th></th>\n",
       "    </tr>\n",
       "  </thead>\n",
       "  <tbody>\n",
       "    <tr>\n",
       "      <td>Centrum</td>\n",
       "      <td>344.0</td>\n",
       "      <td>47.0</td>\n",
       "      <td>7481.273256</td>\n",
       "      <td>7139.446809</td>\n",
       "    </tr>\n",
       "    <tr>\n",
       "      <td>De Aker (Jay)</td>\n",
       "      <td>6.0</td>\n",
       "      <td>15.0</td>\n",
       "      <td>3538.000000</td>\n",
       "      <td>3536.266667</td>\n",
       "    </tr>\n",
       "    <tr>\n",
       "      <td>Nieuw-West</td>\n",
       "      <td>224.0</td>\n",
       "      <td>74.0</td>\n",
       "      <td>4427.156250</td>\n",
       "      <td>4049.337838</td>\n",
       "    </tr>\n",
       "    <tr>\n",
       "      <td>Noord</td>\n",
       "      <td>188.0</td>\n",
       "      <td>121.0</td>\n",
       "      <td>4399.824468</td>\n",
       "      <td>4753.512397</td>\n",
       "    </tr>\n",
       "    <tr>\n",
       "      <td>O IJburg</td>\n",
       "      <td>44.0</td>\n",
       "      <td>40.0</td>\n",
       "      <td>4376.704545</td>\n",
       "      <td>4716.075000</td>\n",
       "    </tr>\n",
       "    <tr>\n",
       "      <td>Oost</td>\n",
       "      <td>371.0</td>\n",
       "      <td>6.0</td>\n",
       "      <td>6027.547170</td>\n",
       "      <td>6895.166667</td>\n",
       "    </tr>\n",
       "    <tr>\n",
       "      <td>Oostelijke Eilanden (Jay)</td>\n",
       "      <td>54.0</td>\n",
       "      <td>13.0</td>\n",
       "      <td>5669.240741</td>\n",
       "      <td>5646.615385</td>\n",
       "    </tr>\n",
       "    <tr>\n",
       "      <td>West</td>\n",
       "      <td>641.0</td>\n",
       "      <td>12.0</td>\n",
       "      <td>6643.469579</td>\n",
       "      <td>7418.666667</td>\n",
       "    </tr>\n",
       "    <tr>\n",
       "      <td>ZO Driemand</td>\n",
       "      <td>NaN</td>\n",
       "      <td>4.0</td>\n",
       "      <td>NaN</td>\n",
       "      <td>3721.750000</td>\n",
       "    </tr>\n",
       "    <tr>\n",
       "      <td>Zuid</td>\n",
       "      <td>432.0</td>\n",
       "      <td>24.0</td>\n",
       "      <td>7343.986111</td>\n",
       "      <td>8312.125000</td>\n",
       "    </tr>\n",
       "    <tr>\n",
       "      <td>Zuid Buitenveldert</td>\n",
       "      <td>82.0</td>\n",
       "      <td>19.0</td>\n",
       "      <td>5796.121951</td>\n",
       "      <td>5040.684211</td>\n",
       "    </tr>\n",
       "    <tr>\n",
       "      <td>Zuid-Oost</td>\n",
       "      <td>118.0</td>\n",
       "      <td>39.0</td>\n",
       "      <td>3423.508475</td>\n",
       "      <td>3150.615385</td>\n",
       "    </tr>\n",
       "  </tbody>\n",
       "</table>\n",
       "</div>"
      ],
      "text/plain": [
       "                                count                  mean             \n",
       "Soort OG                  Appartement Woonhuis  Appartement     Woonhuis\n",
       "stadsdeel                                                               \n",
       "Centrum                         344.0     47.0  7481.273256  7139.446809\n",
       "De Aker (Jay)                     6.0     15.0  3538.000000  3536.266667\n",
       "Nieuw-West                      224.0     74.0  4427.156250  4049.337838\n",
       "Noord                           188.0    121.0  4399.824468  4753.512397\n",
       "O IJburg                         44.0     40.0  4376.704545  4716.075000\n",
       "Oost                            371.0      6.0  6027.547170  6895.166667\n",
       "Oostelijke Eilanden (Jay)        54.0     13.0  5669.240741  5646.615385\n",
       "West                            641.0     12.0  6643.469579  7418.666667\n",
       "ZO Driemand                       NaN      4.0          NaN  3721.750000\n",
       "Zuid                            432.0     24.0  7343.986111  8312.125000\n",
       "Zuid Buitenveldert               82.0     19.0  5796.121951  5040.684211\n",
       "Zuid-Oost                       118.0     39.0  3423.508475  3150.615385"
      ]
     },
     "execution_count": 12,
     "metadata": {},
     "output_type": "execute_result"
    }
   ],
   "source": [
    "df_verkocht_groupby.unstack()"
   ]
  },
  {
   "cell_type": "code",
   "execution_count": 13,
   "metadata": {},
   "outputs": [
    {
     "data": {
      "text/html": [
       "<div>\n",
       "<style scoped>\n",
       "    .dataframe tbody tr th:only-of-type {\n",
       "        vertical-align: middle;\n",
       "    }\n",
       "\n",
       "    .dataframe tbody tr th {\n",
       "        vertical-align: top;\n",
       "    }\n",
       "\n",
       "    .dataframe thead th {\n",
       "        text-align: right;\n",
       "    }\n",
       "</style>\n",
       "<table border=\"1\" class=\"dataframe\">\n",
       "  <thead>\n",
       "    <tr style=\"text-align: right;\">\n",
       "      <th></th>\n",
       "      <th>mean</th>\n",
       "    </tr>\n",
       "    <tr>\n",
       "      <th>stadsdeel</th>\n",
       "      <th></th>\n",
       "    </tr>\n",
       "  </thead>\n",
       "  <tbody>\n",
       "    <tr>\n",
       "      <td>Centrum</td>\n",
       "      <td>7440.184143</td>\n",
       "    </tr>\n",
       "    <tr>\n",
       "      <td>De Aker (Jay)</td>\n",
       "      <td>3536.761905</td>\n",
       "    </tr>\n",
       "    <tr>\n",
       "      <td>Nieuw-West</td>\n",
       "      <td>4333.335570</td>\n",
       "    </tr>\n",
       "    <tr>\n",
       "      <td>Noord</td>\n",
       "      <td>4538.323625</td>\n",
       "    </tr>\n",
       "    <tr>\n",
       "      <td>O IJburg</td>\n",
       "      <td>4538.309524</td>\n",
       "    </tr>\n",
       "    <tr>\n",
       "      <td>Oost</td>\n",
       "      <td>6041.355438</td>\n",
       "    </tr>\n",
       "    <tr>\n",
       "      <td>Oostelijke Eilanden (Jay)</td>\n",
       "      <td>5664.850746</td>\n",
       "    </tr>\n",
       "    <tr>\n",
       "      <td>West</td>\n",
       "      <td>6657.715161</td>\n",
       "    </tr>\n",
       "    <tr>\n",
       "      <td>ZO Driemand</td>\n",
       "      <td>3721.750000</td>\n",
       "    </tr>\n",
       "    <tr>\n",
       "      <td>Zuid</td>\n",
       "      <td>7394.940789</td>\n",
       "    </tr>\n",
       "    <tr>\n",
       "      <td>Zuid Buitenveldert</td>\n",
       "      <td>5654.009901</td>\n",
       "    </tr>\n",
       "    <tr>\n",
       "      <td>Zuid-Oost</td>\n",
       "      <td>3355.719745</td>\n",
       "    </tr>\n",
       "  </tbody>\n",
       "</table>\n",
       "</div>"
      ],
      "text/plain": [
       "                                  mean\n",
       "stadsdeel                             \n",
       "Centrum                    7440.184143\n",
       "De Aker (Jay)              3536.761905\n",
       "Nieuw-West                 4333.335570\n",
       "Noord                      4538.323625\n",
       "O IJburg                   4538.309524\n",
       "Oost                       6041.355438\n",
       "Oostelijke Eilanden (Jay)  5664.850746\n",
       "West                       6657.715161\n",
       "ZO Driemand                3721.750000\n",
       "Zuid                       7394.940789\n",
       "Zuid Buitenveldert         5654.009901\n",
       "Zuid-Oost                  3355.719745"
      ]
     },
     "execution_count": 13,
     "metadata": {},
     "output_type": "execute_result"
    }
   ],
   "source": [
    "df_verkocht_subset.groupby(['stadsdeel'])['transactieprijs_per_m2_number'].agg(['mean'])"
   ]
  }
 ],
 "metadata": {
  "kernelspec": {
   "display_name": "real_estate_venv",
   "language": "python",
   "name": "real_estate_venv"
  },
  "language_info": {
   "codemirror_mode": {
    "name": "ipython",
    "version": 3
   },
   "file_extension": ".py",
   "mimetype": "text/x-python",
   "name": "python",
   "nbconvert_exporter": "python",
   "pygments_lexer": "ipython3",
   "version": "3.7.0"
  }
 },
 "nbformat": 4,
 "nbformat_minor": 2
}
