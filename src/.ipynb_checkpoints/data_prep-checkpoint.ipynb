{
 "cells": [
  {
   "cell_type": "code",
   "execution_count": 5,
   "metadata": {},
   "outputs": [],
   "source": [
    "import os\n",
    "import pandas as pd\n",
    "import matplotlib.pyplot as plt\n",
    "import seaborn as sns\n",
    "from IPython.display import HTML\n",
    "import matplotlib\n",
    "import numpy as np"
   ]
  },
  {
   "cell_type": "code",
   "execution_count": 6,
   "metadata": {},
   "outputs": [],
   "source": [
    "# df_verhuurd = pd.read_csv('C:\\\\Users\\\\jniens\\\\GoogleDrive\\\\Python_Projects\\\\real_estate_analysis\\\\data_files\\\\csv\\\\verhuurde_woningen_driemaanden.csv', sep=';')\n",
    "# df_verkocht = pd.read_csv('C:\\\\Users\\\\jniens\\\\GoogleDrive\\\\Python_Projects\\\\real_estate_analysis\\\\data_files\\\\csv\\\\verkochte_woningen_driemaanden.csv', sep=';')\n",
    "# df_stadsdelen = pd.read_csv('C:\\\\Users\\\\jniens\\\\GoogleDrive\\\\Python_Projects\\\\real_estate_analysis\\\\data_files\\\\csv\\\\dim_stadsdelen3.csv', sep=';')"
   ]
  },
  {
   "cell_type": "code",
   "execution_count": 7,
   "metadata": {},
   "outputs": [],
   "source": [
    "def prep_df(df_fact, df_stadsdelen):\n",
    "    \n",
    "    \"Make id column\"\n",
    "    df_fact['Huisnr.'] = df_fact['Huisnr.'].fillna(0).astype(int).astype(str)\n",
    "    df_fact['Toev.'] = df_fact['Toev.'].fillna('')\n",
    "    \n",
    "    df_fact['id'] = df_fact.Straat + \"-\" + \\\n",
    "    df_fact['Huisnr.'].astype(int).astype(str) + \"-\" + \\\n",
    "    df_fact['Toev.']\n",
    "    \n",
    "    \"Convert currency columns to number columns\"\n",
    "    col_name_dict = {'Huidige prijs' : 'huidige_prijs', \n",
    "                 'Prijs per m2' : 'prijs_perm2' ,\n",
    "                'Transactie prijs / huur' : 'transactieprijs', \n",
    "                 'Huidige huur' : 'huidige_huur',\n",
    "                'Transactieprijs per m2' : 'transactieprijs_perm2'}\n",
    "\n",
    "    \"Convert euro column to type number\"\n",
    "    for cur_col, new_col in col_name_dict.items():\n",
    "        df_fact[new_col] = df_fact[cur_col].str.replace('€', '') \\\n",
    "        .str.replace(',', '')\n",
    "        df_fact[new_col] = pd.to_numeric(df_fact[new_col], errors='coerce')\n",
    "\n",
    "    \n",
    "    \"Extract number from Postcode column\"\n",
    "    df_fact.loc[:, 'Postcode_cijfers'] = df_fact.Postcode.str[:4].astype(int).copy()\n",
    "    \n",
    "    \"Join stadsdelen via postcode cijfers\"\n",
    "    df_fact = df_fact.merge(df_stadsdelen, left_on='Postcode_cijfers', right_on='postcode', how='left')\n",
    "\n",
    "    \"Select subset columns\"\n",
    "    cols = [\n",
    "        'id', \n",
    "        'postcode',\n",
    "        'stadsdeel',\n",
    "        'Soort OG',\n",
    "        'Soort appartement',\n",
    "        'Aantal kamers', \n",
    "        'Dagen op de markt',\n",
    "        'Woonopppervlakte',\n",
    "        'Inhoud woning',\n",
    "        'Status',\n",
    "        #'Makelaar',\n",
    "        'Datum aanmelding',\n",
    "        'Transactiedatum',      \n",
    "        'Huur conditie',\n",
    "        'Koop conditie',\n",
    "        'huidige_huur',\n",
    "        'huidige_prijs',\n",
    "        'prijs_perm2',\n",
    "        'transactieprijs', \n",
    "        'transactieprijs_perm2'                    \n",
    "    ]\n",
    "\n",
    "    df_fact = df_fact[cols]\n",
    "    \n",
    "    \"Make indicators\"\n",
    "    df_fact['trans_eq_huid'] = df_fact.transactieprijs_perm2.eq(df_fact.prijs_perm2)\n",
    "    df_fact['trans_gt_huid'] = df_fact.transactieprijs_perm2.gt(df_fact.prijs_perm2)\n",
    "    df_fact['trans_lt_huid'] = df_fact.transactieprijs_perm2.lt(df_fact.prijs_perm2)\n",
    "    \n",
    "    \"Convert date columns to pd.datetime format\"\n",
    "    dateformat = '%d-%m-%Y'\n",
    "    df_fact['Transactiedatum'] = pd.to_datetime(df_fact['Transactiedatum'], format=dateformat)\n",
    "    df_fact['Datum aanmelding'] = pd.to_datetime(df_fact['Datum aanmelding'], format=dateformat)\n",
    "    \n",
    "    \"Set id column as index\"\n",
    "    df_fact = df_fact.set_index('id')\n",
    "    \n",
    "    return df_fact"
   ]
  }
 ],
 "metadata": {
  "kernelspec": {
   "display_name": "real_estate_venv",
   "language": "python",
   "name": "real_estate_venv"
  },
  "language_info": {
   "codemirror_mode": {
    "name": "ipython",
    "version": 3
   },
   "file_extension": ".py",
   "mimetype": "text/x-python",
   "name": "python",
   "nbconvert_exporter": "python",
   "pygments_lexer": "ipython3",
   "version": "3.7.0"
  }
 },
 "nbformat": 4,
 "nbformat_minor": 2
}
