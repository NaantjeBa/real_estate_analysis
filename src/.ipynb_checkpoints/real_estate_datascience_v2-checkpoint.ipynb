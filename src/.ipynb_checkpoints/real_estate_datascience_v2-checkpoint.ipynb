{
 "cells": [
  {
   "cell_type": "code",
   "execution_count": 1,
   "metadata": {},
   "outputs": [],
   "source": [
    "import os\n",
    "import pandas as pd\n",
    "import matplotlib.pyplot as plt\n",
    "import seaborn as sns\n",
    "from IPython.display import HTML\n",
    "import matplotlib\n",
    "import numpy as np\n",
    "import data_prep\n",
    "from sklearn import preprocessing, svm\n",
    "from sklearn.linear_model import LinearRegression\n",
    "from sklearn.model_selection import train_test_split, cross_val_score\n",
    "from sklearn.metrics import mean_squared_error, r2_score\n",
    "from sklearn.preprocessing import OneHotEncoder\n",
    "from sklearn.compose import make_column_transformer\n",
    "from sklearn.pipeline import make_pipeline"
   ]
  },
  {
   "cell_type": "code",
   "execution_count": 2,
   "metadata": {},
   "outputs": [],
   "source": [
    "df_verkocht = pd.read_csv('C:\\\\Users\\\\jniens\\\\GoogleDrive\\\\Python_Projects\\\\real_estate_analysis\\\\data_files\\\\csv\\\\verkochte_woningen_driemaanden.csv', sep=';')\n",
    "df_stadsdelen = pd.read_csv('C:\\\\Users\\\\jniens\\\\GoogleDrive\\\\Python_Projects\\\\real_estate_analysis\\\\data_files\\\\csv\\\\dim_stadsdelen3.csv', sep=';')"
   ]
  },
  {
   "cell_type": "code",
   "execution_count": 3,
   "metadata": {},
   "outputs": [],
   "source": [
    "df_verkocht_1 = data_prep.prep_df(df_verkocht, df_stadsdelen)"
   ]
  },
  {
   "cell_type": "code",
   "execution_count": 4,
   "metadata": {},
   "outputs": [],
   "source": [
    "sub_cols = ['Woonoppervlakte', 'Inhoud woning', 'stadsdeel', 'transactieprijs']"
   ]
  },
  {
   "cell_type": "code",
   "execution_count": 5,
   "metadata": {},
   "outputs": [
    {
     "name": "stderr",
     "output_type": "stream",
     "text": [
      "c:\\users\\jniens\\googledrive\\python_projects\\real_estate_analysis\\real_estate_venv\\lib\\site-packages\\pandas\\core\\indexing.py:494: SettingWithCopyWarning: \n",
      "A value is trying to be set on a copy of a slice from a DataFrame.\n",
      "Try using .loc[row_indexer,col_indexer] = value instead\n",
      "\n",
      "See the caveats in the documentation: http://pandas.pydata.org/pandas-docs/stable/user_guide/indexing.html#returning-a-view-versus-a-copy\n",
      "  self.obj[item] = s\n"
     ]
    }
   ],
   "source": [
    "df_verkocht_2 = df_verkocht_1[sub_cols]\n",
    "df_verkocht_3 = df_verkocht_2.dropna()\n",
    "df_verkocht_3.loc[:,'transactieprijs'] = df_verkocht_3['transactieprijs'].copy() / 1000"
   ]
  },
  {
   "cell_type": "code",
   "execution_count": 7,
   "metadata": {},
   "outputs": [],
   "source": [
    "X1 = df_verkocht_3.drop('transactieprijs', axis='columns')\n",
    "y1 = df_verkocht_3['transactieprijs']"
   ]
  },
  {
   "cell_type": "code",
   "execution_count": 8,
   "metadata": {},
   "outputs": [],
   "source": [
    "model1 = LinearRegression()"
   ]
  },
  {
   "cell_type": "code",
   "execution_count": 9,
   "metadata": {},
   "outputs": [],
   "source": [
    "column_trans = make_column_transformer( \n",
    "    (OneHotEncoder(), ['stadsdeel']), \n",
    "    remainder='passthrough')"
   ]
  },
  {
   "cell_type": "code",
   "execution_count": 10,
   "metadata": {},
   "outputs": [],
   "source": [
    "pipe = make_pipeline(column_trans, model1)"
   ]
  },
  {
   "cell_type": "code",
   "execution_count": 11,
   "metadata": {},
   "outputs": [
    {
     "name": "stdout",
     "output_type": "stream",
     "text": [
      "{'neg_root_mean_squared_error': 160.78551370383326, 'neg_mean_absolute_error': 120.07235750304145}\n"
     ]
    }
   ],
   "source": [
    "scoring_methods = [ \n",
    "    'neg_root_mean_squared_error', \n",
    "    'neg_mean_absolute_error', \n",
    "]\n",
    "scores = []\n",
    "for method in scoring_methods:\n",
    "\n",
    "    score = -cross_val_score(pipe, X1, y1, cv=10, scoring=method).mean()\n",
    "    scores.append(score)\n",
    "    \n",
    "zip_scores = zip(scoring_methods, scores)\n",
    "    \n",
    "print(dict(zip_scores))"
   ]
  },
  {
   "cell_type": "code",
   "execution_count": 12,
   "metadata": {},
   "outputs": [],
   "source": [
    "feature_cols = ['Woonoppervlakte']\n",
    "               \n",
    "X2 = df_verkocht_3[feature_cols]\n",
    "y2 = df_verkocht_3['transactieprijs']"
   ]
  },
  {
   "cell_type": "code",
   "execution_count": 13,
   "metadata": {},
   "outputs": [],
   "source": [
    "model2 = LinearRegression()"
   ]
  },
  {
   "cell_type": "code",
   "execution_count": 14,
   "metadata": {},
   "outputs": [
    {
     "data": {
      "text/plain": [
       "LinearRegression(copy_X=True, fit_intercept=True, n_jobs=None, normalize=False)"
      ]
     },
     "execution_count": 14,
     "metadata": {},
     "output_type": "execute_result"
    }
   ],
   "source": [
    "model2.fit(X2, y2)"
   ]
  },
  {
   "cell_type": "code",
   "execution_count": 15,
   "metadata": {},
   "outputs": [
    {
     "name": "stdout",
     "output_type": "stream",
     "text": [
      "{'neg_root_mean_squared_error': 216.07584953777092, 'neg_mean_absolute_error': 166.56229137577208}\n"
     ]
    }
   ],
   "source": [
    "scoring_methods = [ \n",
    "    'neg_root_mean_squared_error', \n",
    "    'neg_mean_absolute_error', \n",
    "]\n",
    "scores = []\n",
    "for method in scoring_methods:\n",
    "\n",
    "    score = -cross_val_score(model2, X2, y2, cv=10, scoring=method).mean()\n",
    "    scores.append(score)\n",
    "    \n",
    "zip_scores = zip(scoring_methods, scores)\n",
    "    \n",
    "print(dict(zip_scores))"
   ]
  },
  {
   "cell_type": "code",
   "execution_count": 16,
   "metadata": {},
   "outputs": [
    {
     "data": {
      "text/plain": [
       "0.7115011046314411"
      ]
     },
     "execution_count": 16,
     "metadata": {},
     "output_type": "execute_result"
    }
   ],
   "source": [
    "y_predict = model2.predict(X2)\n",
    "model2.score(X2, y2)"
   ]
  },
  {
   "cell_type": "code",
   "execution_count": 17,
   "metadata": {},
   "outputs": [],
   "source": [
    "score = r2_score(y2, y_predict)"
   ]
  },
  {
   "cell_type": "code",
   "execution_count": 18,
   "metadata": {},
   "outputs": [
    {
     "name": "stdout",
     "output_type": "stream",
     "text": [
      "0.7115011046314411\n"
     ]
    }
   ],
   "source": [
    "print(score)"
   ]
  },
  {
   "cell_type": "code",
   "execution_count": null,
   "metadata": {},
   "outputs": [],
   "source": []
  }
 ],
 "metadata": {
  "kernelspec": {
   "display_name": "real_estate_venv",
   "language": "python",
   "name": "real_estate_venv"
  },
  "language_info": {
   "codemirror_mode": {
    "name": "ipython",
    "version": 3
   },
   "file_extension": ".py",
   "mimetype": "text/x-python",
   "name": "python",
   "nbconvert_exporter": "python",
   "pygments_lexer": "ipython3",
   "version": "3.7.0"
  }
 },
 "nbformat": 4,
 "nbformat_minor": 2
}
