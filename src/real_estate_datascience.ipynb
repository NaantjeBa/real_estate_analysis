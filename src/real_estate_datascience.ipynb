{
 "cells": [
  {
   "cell_type": "code",
   "execution_count": 1,
   "metadata": {},
   "outputs": [],
   "source": [
    "import os\n",
    "import pandas as pd\n",
    "import matplotlib.pyplot as plt\n",
    "import seaborn as sns\n",
    "from IPython.display import HTML\n",
    "import matplotlib\n",
    "import numpy as np\n",
    "import data_prep\n",
    "from sklearn import preprocessing, svm\n",
    "from sklearn.linear_model import LinearRegression\n",
    "from sklearn.model_selection import train_test_split, cross_val_score\n",
    "from sklearn.metrics import mean_squared_error, r2_score"
   ]
  },
  {
   "cell_type": "code",
   "execution_count": 2,
   "metadata": {},
   "outputs": [],
   "source": [
    "df_verkocht = pd.read_csv('C:\\\\Users\\\\jniens\\\\GoogleDrive\\\\Python_Projects\\\\real_estate_analysis\\\\data_files\\\\csv\\\\verkochte_woningen_driemaanden.csv', sep=';')\n",
    "df_stadsdelen = pd.read_csv('C:\\\\Users\\\\jniens\\\\GoogleDrive\\\\Python_Projects\\\\real_estate_analysis\\\\data_files\\\\csv\\\\dim_stadsdelen3.csv', sep=';')"
   ]
  },
  {
   "cell_type": "code",
   "execution_count": 3,
   "metadata": {},
   "outputs": [],
   "source": [
    "df_verkocht_1 = data_prep.prep_df(df_verkocht, df_stadsdelen)"
   ]
  },
  {
   "cell_type": "code",
   "execution_count": 4,
   "metadata": {},
   "outputs": [
    {
     "data": {
      "text/html": [
       "<div>\n",
       "<style scoped>\n",
       "    .dataframe tbody tr th:only-of-type {\n",
       "        vertical-align: middle;\n",
       "    }\n",
       "\n",
       "    .dataframe tbody tr th {\n",
       "        vertical-align: top;\n",
       "    }\n",
       "\n",
       "    .dataframe thead th {\n",
       "        text-align: right;\n",
       "    }\n",
       "</style>\n",
       "<table border=\"1\" class=\"dataframe\">\n",
       "  <thead>\n",
       "    <tr style=\"text-align: right;\">\n",
       "      <th></th>\n",
       "      <th>postcode</th>\n",
       "      <th>stadsdeel</th>\n",
       "      <th>Soort OG</th>\n",
       "      <th>Soort appartement</th>\n",
       "      <th>Aantal kamers</th>\n",
       "      <th>Dagen op de markt</th>\n",
       "      <th>Woonoppervlakte</th>\n",
       "      <th>Inhoud woning</th>\n",
       "      <th>Status</th>\n",
       "      <th>Datum aanmelding</th>\n",
       "      <th>...</th>\n",
       "      <th>Huur conditie</th>\n",
       "      <th>Koop conditie</th>\n",
       "      <th>huidige_huur</th>\n",
       "      <th>huidige_prijs</th>\n",
       "      <th>prijs_perm2</th>\n",
       "      <th>transactieprijs</th>\n",
       "      <th>transactieprijs_perm2</th>\n",
       "      <th>trans_eq_huid</th>\n",
       "      <th>trans_gt_huid</th>\n",
       "      <th>trans_lt_huid</th>\n",
       "    </tr>\n",
       "    <tr>\n",
       "      <th>id</th>\n",
       "      <th></th>\n",
       "      <th></th>\n",
       "      <th></th>\n",
       "      <th></th>\n",
       "      <th></th>\n",
       "      <th></th>\n",
       "      <th></th>\n",
       "      <th></th>\n",
       "      <th></th>\n",
       "      <th></th>\n",
       "      <th></th>\n",
       "      <th></th>\n",
       "      <th></th>\n",
       "      <th></th>\n",
       "      <th></th>\n",
       "      <th></th>\n",
       "      <th></th>\n",
       "      <th></th>\n",
       "      <th></th>\n",
       "      <th></th>\n",
       "      <th></th>\n",
       "    </tr>\n",
       "  </thead>\n",
       "  <tbody>\n",
       "    <tr>\n",
       "      <td>Korte Geuzenstraat-700-22</td>\n",
       "      <td>1056</td>\n",
       "      <td>West</td>\n",
       "      <td>Appartement</td>\n",
       "      <td>bovenwoning</td>\n",
       "      <td>1</td>\n",
       "      <td>119</td>\n",
       "      <td>9</td>\n",
       "      <td>27</td>\n",
       "      <td>Verkocht</td>\n",
       "      <td>2019-04-11</td>\n",
       "      <td>...</td>\n",
       "      <td>NaN</td>\n",
       "      <td>Kosten koper</td>\n",
       "      <td>NaN</td>\n",
       "      <td>97500</td>\n",
       "      <td>10833.0</td>\n",
       "      <td>90000.0</td>\n",
       "      <td>10000</td>\n",
       "      <td>False</td>\n",
       "      <td>False</td>\n",
       "      <td>True</td>\n",
       "    </tr>\n",
       "    <tr>\n",
       "      <td>Jisperveldstraat-581-</td>\n",
       "      <td>1024</td>\n",
       "      <td>Noord</td>\n",
       "      <td>Appartement</td>\n",
       "      <td>tussenverdieping</td>\n",
       "      <td>1</td>\n",
       "      <td>24</td>\n",
       "      <td>30</td>\n",
       "      <td>113</td>\n",
       "      <td>Verkocht</td>\n",
       "      <td>2019-05-15</td>\n",
       "      <td>...</td>\n",
       "      <td>NaN</td>\n",
       "      <td>Kosten koper</td>\n",
       "      <td>NaN</td>\n",
       "      <td>139500</td>\n",
       "      <td>4650.0</td>\n",
       "      <td>160500.0</td>\n",
       "      <td>5350</td>\n",
       "      <td>False</td>\n",
       "      <td>True</td>\n",
       "      <td>False</td>\n",
       "    </tr>\n",
       "    <tr>\n",
       "      <td>Amerbos-152-</td>\n",
       "      <td>1025</td>\n",
       "      <td>Noord</td>\n",
       "      <td>Appartement</td>\n",
       "      <td>galerijflat</td>\n",
       "      <td>1</td>\n",
       "      <td>21</td>\n",
       "      <td>29</td>\n",
       "      <td>105</td>\n",
       "      <td>Verkocht</td>\n",
       "      <td>2019-06-26</td>\n",
       "      <td>...</td>\n",
       "      <td>NaN</td>\n",
       "      <td>Kosten koper</td>\n",
       "      <td>NaN</td>\n",
       "      <td>139500</td>\n",
       "      <td>4810.0</td>\n",
       "      <td>153700.0</td>\n",
       "      <td>5300</td>\n",
       "      <td>False</td>\n",
       "      <td>True</td>\n",
       "      <td>False</td>\n",
       "    </tr>\n",
       "    <tr>\n",
       "      <td>Dostojevskisingel-325-</td>\n",
       "      <td>1102</td>\n",
       "      <td>Zuid-Oost</td>\n",
       "      <td>Appartement</td>\n",
       "      <td>bovenwoning</td>\n",
       "      <td>2</td>\n",
       "      <td>25</td>\n",
       "      <td>34</td>\n",
       "      <td>98</td>\n",
       "      <td>Verkocht</td>\n",
       "      <td>2019-06-04</td>\n",
       "      <td>...</td>\n",
       "      <td>NaN</td>\n",
       "      <td>Kosten koper</td>\n",
       "      <td>NaN</td>\n",
       "      <td>140000</td>\n",
       "      <td>4118.0</td>\n",
       "      <td>160500.0</td>\n",
       "      <td>4721</td>\n",
       "      <td>False</td>\n",
       "      <td>True</td>\n",
       "      <td>False</td>\n",
       "    </tr>\n",
       "    <tr>\n",
       "      <td>Dantestraat-138-</td>\n",
       "      <td>1102</td>\n",
       "      <td>Zuid-Oost</td>\n",
       "      <td>Appartement</td>\n",
       "      <td>bovenwoning</td>\n",
       "      <td>1</td>\n",
       "      <td>21</td>\n",
       "      <td>34</td>\n",
       "      <td>110</td>\n",
       "      <td>Verkocht</td>\n",
       "      <td>2019-02-13</td>\n",
       "      <td>...</td>\n",
       "      <td>NaN</td>\n",
       "      <td>Kosten koper</td>\n",
       "      <td>NaN</td>\n",
       "      <td>145000</td>\n",
       "      <td>4265.0</td>\n",
       "      <td>153000.0</td>\n",
       "      <td>4500</td>\n",
       "      <td>False</td>\n",
       "      <td>True</td>\n",
       "      <td>False</td>\n",
       "    </tr>\n",
       "  </tbody>\n",
       "</table>\n",
       "<p>5 rows × 21 columns</p>\n",
       "</div>"
      ],
      "text/plain": [
       "                           postcode  stadsdeel     Soort OG Soort appartement  \\\n",
       "id                                                                              \n",
       "Korte Geuzenstraat-700-22      1056       West  Appartement       bovenwoning   \n",
       "Jisperveldstraat-581-          1024      Noord  Appartement  tussenverdieping   \n",
       "Amerbos-152-                   1025      Noord  Appartement       galerijflat   \n",
       "Dostojevskisingel-325-         1102  Zuid-Oost  Appartement       bovenwoning   \n",
       "Dantestraat-138-               1102  Zuid-Oost  Appartement       bovenwoning   \n",
       "\n",
       "                           Aantal kamers  Dagen op de markt  Woonoppervlakte  \\\n",
       "id                                                                             \n",
       "Korte Geuzenstraat-700-22              1                119                9   \n",
       "Jisperveldstraat-581-                  1                 24               30   \n",
       "Amerbos-152-                           1                 21               29   \n",
       "Dostojevskisingel-325-                 2                 25               34   \n",
       "Dantestraat-138-                       1                 21               34   \n",
       "\n",
       "                           Inhoud woning    Status Datum aanmelding  ...  \\\n",
       "id                                                                   ...   \n",
       "Korte Geuzenstraat-700-22             27  Verkocht       2019-04-11  ...   \n",
       "Jisperveldstraat-581-                113  Verkocht       2019-05-15  ...   \n",
       "Amerbos-152-                         105  Verkocht       2019-06-26  ...   \n",
       "Dostojevskisingel-325-                98  Verkocht       2019-06-04  ...   \n",
       "Dantestraat-138-                     110  Verkocht       2019-02-13  ...   \n",
       "\n",
       "                          Huur conditie Koop conditie huidige_huur  \\\n",
       "id                                                                   \n",
       "Korte Geuzenstraat-700-22           NaN  Kosten koper          NaN   \n",
       "Jisperveldstraat-581-               NaN  Kosten koper          NaN   \n",
       "Amerbos-152-                        NaN  Kosten koper          NaN   \n",
       "Dostojevskisingel-325-              NaN  Kosten koper          NaN   \n",
       "Dantestraat-138-                    NaN  Kosten koper          NaN   \n",
       "\n",
       "                           huidige_prijs  prijs_perm2  transactieprijs  \\\n",
       "id                                                                       \n",
       "Korte Geuzenstraat-700-22          97500      10833.0          90000.0   \n",
       "Jisperveldstraat-581-             139500       4650.0         160500.0   \n",
       "Amerbos-152-                      139500       4810.0         153700.0   \n",
       "Dostojevskisingel-325-            140000       4118.0         160500.0   \n",
       "Dantestraat-138-                  145000       4265.0         153000.0   \n",
       "\n",
       "                           transactieprijs_perm2  trans_eq_huid  \\\n",
       "id                                                                \n",
       "Korte Geuzenstraat-700-22                  10000          False   \n",
       "Jisperveldstraat-581-                       5350          False   \n",
       "Amerbos-152-                                5300          False   \n",
       "Dostojevskisingel-325-                      4721          False   \n",
       "Dantestraat-138-                            4500          False   \n",
       "\n",
       "                           trans_gt_huid  trans_lt_huid  \n",
       "id                                                       \n",
       "Korte Geuzenstraat-700-22          False           True  \n",
       "Jisperveldstraat-581-               True          False  \n",
       "Amerbos-152-                        True          False  \n",
       "Dostojevskisingel-325-              True          False  \n",
       "Dantestraat-138-                    True          False  \n",
       "\n",
       "[5 rows x 21 columns]"
      ]
     },
     "execution_count": 4,
     "metadata": {},
     "output_type": "execute_result"
    }
   ],
   "source": [
    "df_verkocht_1.head()"
   ]
  },
  {
   "cell_type": "code",
   "execution_count": 5,
   "metadata": {},
   "outputs": [],
   "source": [
    "sub_cols = ['Woonoppervlakte', 'Inhoud woning', 'Soort OG', 'transactieprijs']"
   ]
  },
  {
   "cell_type": "code",
   "execution_count": 6,
   "metadata": {},
   "outputs": [],
   "source": [
    "df_verkocht_2 = df_verkocht_1[sub_cols]\n",
    "df_verkocht_3 = df_verkocht_2.dropna()"
   ]
  },
  {
   "cell_type": "code",
   "execution_count": 7,
   "metadata": {},
   "outputs": [
    {
     "data": {
      "text/plain": [
       "<matplotlib.axes._subplots.AxesSubplot at 0x10053bf0>"
      ]
     },
     "execution_count": 7,
     "metadata": {},
     "output_type": "execute_result"
    },
    {
     "data": {
      "image/png": "[encoded data removed]",
      "text/plain": [
       "<Figure size 432x288 with 1 Axes>"
      ]
     },
     "metadata": {
      "needs_background": "light"
     },
     "output_type": "display_data"
    }
   ],
   "source": [
    "df_verkocht_3.plot.scatter(x='Woonoppervlakte', y='transactieprijs')"
   ]
  },
  {
   "cell_type": "code",
   "execution_count": 8,
   "metadata": {},
   "outputs": [],
   "source": [
    "X = np.array(df_verkocht_3[[\n",
    "    #'Woonoppervlakte' \n",
    "    'Inhoud woning'\n",
    "    ]])\n",
    "X = np.array(df_verkocht_3[[\n",
    "    #'Woonoppervlakte' \n",
    "    'Inhoud woning'\n",
    "    ]])\n",
    "y = np.array(df_verkocht_3[['transactieprijs']])"
   ]
  },
  {
   "cell_type": "code",
   "execution_count": 9,
   "metadata": {},
   "outputs": [],
   "source": [
    "model = LinearRegression(fit_intercept=True) # 2. instantiate model"
   ]
  },
  {
   "cell_type": "code",
   "execution_count": 10,
   "metadata": {},
   "outputs": [],
   "source": [
    "X_train, X_test, y_train, y_test = train_test_split(X, y, test_size=0.2)"
   ]
  },
  {
   "cell_type": "code",
   "execution_count": 11,
   "metadata": {},
   "outputs": [
    {
     "data": {
      "text/plain": [
       "LinearRegression(copy_X=True, fit_intercept=True, n_jobs=None, normalize=False)"
      ]
     },
     "execution_count": 11,
     "metadata": {},
     "output_type": "execute_result"
    }
   ],
   "source": [
    "model.fit(X_train, y_train) # 3. fit the model"
   ]
  },
  {
   "cell_type": "code",
   "execution_count": 12,
   "metadata": {},
   "outputs": [
    {
     "data": {
      "text/plain": [
       "0.7212759482943889"
      ]
     },
     "execution_count": 12,
     "metadata": {},
     "output_type": "execute_result"
    }
   ],
   "source": [
    "model.score(X_test, y_test) # 4. predict on new data"
   ]
  },
  {
   "cell_type": "code",
   "execution_count": 13,
   "metadata": {},
   "outputs": [],
   "source": [
    "X_inhoud = np.array(df_verkocht_3[[\n",
    "    'Inhoud woning'\n",
    "    ]])\n",
    "X_oppervlakte = np.array(df_verkocht_3[[\n",
    "    'Woonoppervlakte'\n",
    "    ]])\n",
    "X_both = np.array(df_verkocht_3[[\n",
    "    'Woonoppervlakte',\n",
    "    'Inhoud woning'\n",
    "    ]])\n",
    "y = np.array(df_verkocht_3[['transactieprijs']])"
   ]
  },
  {
   "cell_type": "code",
   "execution_count": 14,
   "metadata": {},
   "outputs": [],
   "source": [
    "model = LinearRegression(fit_intercept=True) # 2. instantiate model\n",
    "model_oppervlakte = LinearRegression(fit_intercept=True) # 2. instantiate model\n",
    "model_both = LinearRegression(fit_intercept=True) # 2. instantiate model\n",
    "\n",
    "model_inhoud_train_test = LinearRegression(fit_intercept=True) # 2. instantiate model\n",
    "model_oppervlakte_train_test = LinearRegression(fit_intercept=True) # 2. instantiate model\n",
    "model_both_train_test = LinearRegression(fit_intercept=True) # 2. instantiate model"
   ]
  },
  {
   "cell_type": "code",
   "execution_count": 15,
   "metadata": {},
   "outputs": [
    {
     "ename": "NameError",
     "evalue": "name 'model_inhoud' is not defined",
     "output_type": "error",
     "traceback": [
      "\u001b[1;31m---------------------------------------------------------------------------\u001b[0m",
      "\u001b[1;31mNameError\u001b[0m                                 Traceback (most recent call last)",
      "\u001b[1;32m<ipython-input-15-84e3da837875>\u001b[0m in \u001b[0;36m<module>\u001b[1;34m\u001b[0m\n\u001b[1;32m----> 1\u001b[1;33m \u001b[0mmodel_inhoud\u001b[0m\u001b[1;33m.\u001b[0m\u001b[0mfit\u001b[0m\u001b[1;33m(\u001b[0m\u001b[0mX_inhoud\u001b[0m\u001b[1;33m,\u001b[0m \u001b[0my\u001b[0m\u001b[1;33m)\u001b[0m \u001b[1;31m# 3. fit the model\u001b[0m\u001b[1;33m\u001b[0m\u001b[0m\n\u001b[0m\u001b[0;32m      2\u001b[0m \u001b[0mmodel_oppervlakte\u001b[0m\u001b[1;33m.\u001b[0m\u001b[0mfit\u001b[0m\u001b[1;33m(\u001b[0m\u001b[0mX_oppervlakte\u001b[0m\u001b[1;33m,\u001b[0m \u001b[0my\u001b[0m\u001b[1;33m)\u001b[0m \u001b[1;31m# 3. fit the model\u001b[0m\u001b[1;33m\u001b[0m\u001b[0m\n\u001b[0;32m      3\u001b[0m \u001b[0mmodel_both\u001b[0m\u001b[1;33m.\u001b[0m\u001b[0mfit\u001b[0m\u001b[1;33m(\u001b[0m\u001b[0mX_both\u001b[0m\u001b[1;33m,\u001b[0m \u001b[0my\u001b[0m\u001b[1;33m)\u001b[0m \u001b[1;31m# 3. fit the model\u001b[0m\u001b[1;33m\u001b[0m\u001b[0m\n",
      "\u001b[1;31mNameError\u001b[0m: name 'model_inhoud' is not defined"
     ]
    }
   ],
   "source": [
    "model_inhoud.fit(X_inhoud, y) # 3. fit the model\n",
    "model_oppervlakte.fit(X_oppervlakte, y) # 3. fit the model\n",
    "model_both.fit(X_both, y) # 3. fit the model"
   ]
  },
  {
   "cell_type": "code",
   "execution_count": null,
   "metadata": {},
   "outputs": [],
   "source": [
    "X_train_inhoud, X_test_inhoud, y_train_inhoud, y_test_inhoud = train_test_split(X_inhoud, y, test_size=0.2)\n",
    "X_train_oppervlakte, X_test_oppervlakte, y_train_oppervlakte, y_test_oppervlakte = train_test_split(X_oppervlakte, y, test_size=0.2)\n",
    "X_train_both, X_test_both, y_train_both, y_test_both = train_test_split(X_both, y, test_size=0.2)\n",
    "\n",
    "model_inhoud_train_test.fit(X_train_inhoud, y_train_inhoud) # 3. fit the model\n",
    "model_oppervlakte_train_test.fit(X_train_oppervlakte, y_train_oppervlakte) # 3. fit the model\n",
    "model_both_train_test.fit(X_train_both, y_train_both) # 3. fit the model"
   ]
  },
  {
   "cell_type": "code",
   "execution_count": null,
   "metadata": {},
   "outputs": [],
   "source": [
    "model_inhoud_score = model_inhoud.score(X_inhoud, y) # 4. predict on new data"
   ]
  },
  {
   "cell_type": "code",
   "execution_count": null,
   "metadata": {},
   "outputs": [],
   "source": [
    "model_oppervlakte_score = model_oppervlakte.score(X_oppervlakte, y) # 4. predict on new data"
   ]
  },
  {
   "cell_type": "code",
   "execution_count": null,
   "metadata": {},
   "outputs": [],
   "source": [
    "model_both_score = model_both.score(X_both, y) # 4. predict on new data"
   ]
  },
  {
   "cell_type": "code",
   "execution_count": null,
   "metadata": {},
   "outputs": [],
   "source": [
    "model_inhoud_train_test_score = model_inhoud_train_test.score(X_test_inhoud, y_test_inhoud) # 4. predict on new data"
   ]
  },
  {
   "cell_type": "code",
   "execution_count": null,
   "metadata": {},
   "outputs": [],
   "source": [
    "model_oppervlakte_train_test_score = model_oppervlakte_train_test.score(X_test_oppervlakte, y_test_oppervlakte) # 4. predict on new data"
   ]
  },
  {
   "cell_type": "code",
   "execution_count": null,
   "metadata": {},
   "outputs": [],
   "source": [
    "model_both_train_test_score = model_both_train_test.score(X_test_both, y_test_both) # 4. predict on new data"
   ]
  },
  {
   "cell_type": "code",
   "execution_count": null,
   "metadata": {},
   "outputs": [],
   "source": [
    "print(f'Inhoud scores {round(model_inhoud_score, 2)} op r squared en {round(model_inhoud_train_test_score, 2)} on accuracy.')\n",
    "print(f'Oppervlakte scores {round(model_oppervlakte_score, 2)} op r squared en {round(model_oppervlakte_train_test_score, 2)} on accuracy.')\n",
    "print(f'Both scores {round(model_both_score, 2)} op r squared en {round(model_both_train_test_score, 2)} on accuracy.')"
   ]
  },
  {
   "cell_type": "code",
   "execution_count": null,
   "metadata": {},
   "outputs": [],
   "source": []
  }
 ],
 "metadata": {
  "kernelspec": {
   "display_name": "real_estate_venv",
   "language": "python",
   "name": "real_estate_venv"
  },
  "language_info": {
   "codemirror_mode": {
    "name": "ipython",
    "version": 3
   },
   "file_extension": ".py",
   "mimetype": "text/x-python",
   "name": "python",
   "nbconvert_exporter": "python",
   "pygments_lexer": "ipython3",
   "version": "3.7.0"
  }
 },
 "nbformat": 4,
 "nbformat_minor": 2
}
