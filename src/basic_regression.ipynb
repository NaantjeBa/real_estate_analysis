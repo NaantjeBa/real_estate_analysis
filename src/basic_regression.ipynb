{
 "cells": [
  {
   "cell_type": "code",
   "execution_count": 1,
   "metadata": {},
   "outputs": [],
   "source": [
    "import data_prep\n",
    "from sklearn.linear_model import LinearRegression\n",
    "#from sklearn.model_selection import train_test_split, cross_val_score\n",
    "import pandas as pd"
   ]
  },
  {
   "cell_type": "code",
   "execution_count": 2,
   "metadata": {},
   "outputs": [
    {
     "name": "stderr",
     "output_type": "stream",
     "text": [
      "c:\\users\\jniens\\googledrive\\python_projects\\real_estate_analysis\\real_estate_venv\\lib\\site-packages\\pandas\\core\\indexing.py:494: SettingWithCopyWarning: \n",
      "A value is trying to be set on a copy of a slice from a DataFrame.\n",
      "Try using .loc[row_indexer,col_indexer] = value instead\n",
      "\n",
      "See the caveats in the documentation: http://pandas.pydata.org/pandas-docs/stable/user_guide/indexing.html#returning-a-view-versus-a-copy\n",
      "  self.obj[item] = s\n"
     ]
    }
   ],
   "source": [
    "\"PRE-PROCESSING\"\n",
    "\"Read in df\"\n",
    "df_verkocht = pd.read_csv('C:\\\\Users\\\\jniens\\\\GoogleDrive\\\\Python_Projects\\\\real_estate_analysis\\\\data_files\\\\csv\\\\verkochte_woningen_driemaanden.csv', sep=';')\n",
    "df_stadsdelen = pd.read_csv('C:\\\\Users\\\\jniens\\\\GoogleDrive\\\\Python_Projects\\\\real_estate_analysis\\\\data_files\\\\csv\\\\dim_stadsdelen3.csv', sep=';')\n",
    "df_verkocht_2 = data_prep.prep_df(df_verkocht, df_stadsdelen)\n",
    "\n",
    "\"Create subset\"\n",
    "sub_cols = ['Woonoppervlakte','transactieprijs']\n",
    "df_verkocht_3 = df_verkocht_2[sub_cols]\n",
    "\n",
    "\"Drop NA and divide price by 1000\"\n",
    "df_verkocht_4 = df_verkocht_3.dropna()\n",
    "df_verkocht_4.loc[:,'transactieprijs'] = df_verkocht_4['transactieprijs'].copy() / 1000"
   ]
  },
  {
   "cell_type": "code",
   "execution_count": 3,
   "metadata": {},
   "outputs": [],
   "source": [
    "\"STEP 1: Choose a class of model.\"\n",
    "from sklearn.linear_model import LinearRegression"
   ]
  },
  {
   "cell_type": "code",
   "execution_count": 4,
   "metadata": {},
   "outputs": [],
   "source": [
    "\"STEP 2: Choose model hyperparameters.\"\n",
    "model = LinearRegression ( fit_intercept = True )"
   ]
  },
  {
   "cell_type": "code",
   "execution_count": 5,
   "metadata": {},
   "outputs": [],
   "source": [
    "\"STEP 3: Arrange data into a features matrix and target vector.\"\n",
    "X = df_verkocht_4.drop('transactieprijs', axis='columns')\n",
    "y = df_verkocht_4['transactieprijs']"
   ]
  },
  {
   "cell_type": "code",
   "execution_count": 6,
   "metadata": {},
   "outputs": [
    {
     "data": {
      "text/plain": [
       "LinearRegression(copy_X=True, fit_intercept=True, n_jobs=None, normalize=False)"
      ]
     },
     "execution_count": 6,
     "metadata": {},
     "output_type": "execute_result"
    }
   ],
   "source": [
    "\"STEP 4: Fit the model to your data.\"\n",
    "model.fit( X , y )"
   ]
  },
  {
   "cell_type": "code",
   "execution_count": 7,
   "metadata": {},
   "outputs": [
    {
     "data": {
      "text/plain": [
       "'STEP 5: Predict labels for unknown data.'"
      ]
     },
     "execution_count": 7,
     "metadata": {},
     "output_type": "execute_result"
    }
   ],
   "source": [
    "\"STEP 5: Predict labels for unknown data.\"\n",
    "#input = [[500] , [345]]\n",
    "#model.predict(X)"
   ]
  },
  {
   "cell_type": "code",
   "execution_count": 8,
   "metadata": {},
   "outputs": [],
   "source": [
    "import mlflow\n",
    "import mlflow.sklearn\n",
    "import shutil"
   ]
  },
  {
   "cell_type": "code",
   "execution_count": 9,
   "metadata": {},
   "outputs": [],
   "source": [
    "model_path = 'models/real_estate_regression'"
   ]
  },
  {
   "cell_type": "code",
   "execution_count": 11,
   "metadata": {},
   "outputs": [],
   "source": [
    "shutil.rmtree(model_path)\n",
    "mlflow.sklearn.save_model(model, model_path)"
   ]
  },
  {
   "cell_type": "code",
   "execution_count": 12,
   "metadata": {},
   "outputs": [
    {
     "data": {
      "text/plain": [
       "array([3223.76642226])"
      ]
     },
     "execution_count": 12,
     "metadata": {},
     "output_type": "execute_result"
    }
   ],
   "source": [
    "model.predict([[500]])"
   ]
  },
  {
   "cell_type": "code",
   "execution_count": null,
   "metadata": {},
   "outputs": [],
   "source": []
  }
 ],
 "metadata": {
  "kernelspec": {
   "display_name": "real_estate_venv",
   "language": "python",
   "name": "real_estate_venv"
  },
  "language_info": {
   "codemirror_mode": {
    "name": "ipython",
    "version": 3
   },
   "file_extension": ".py",
   "mimetype": "text/x-python",
   "name": "python",
   "nbconvert_exporter": "python",
   "pygments_lexer": "ipython3",
   "version": "3.7.0"
  }
 },
 "nbformat": 4,
 "nbformat_minor": 2
}
