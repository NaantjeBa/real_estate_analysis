{
 "cells": [
  {
   "cell_type": "code",
   "execution_count": 55,
   "metadata": {},
   "outputs": [],
   "source": [
    "import data_prep\n",
    "from sklearn.linear_model import LinearRegression\n",
    "#from sklearn.model_selection import train_test_split, cross_val_score\n",
    "import pandas as pd"
   ]
  },
  {
   "cell_type": "code",
   "execution_count": 56,
   "metadata": {},
   "outputs": [],
   "source": [
    "\"PRE-PROCESSING\"\n",
    "\"Read in df\"\n",
    "df_verkocht = pd.read_csv('C:\\\\Users\\\\jniens\\\\GoogleDrive\\\\Python_Projects\\\\real_estate_analysis\\\\data_files\\\\csv\\\\verkochte_woningen_driemaanden.csv', sep=';')\n",
    "df_stadsdelen = pd.read_csv('C:\\\\Users\\\\jniens\\\\GoogleDrive\\\\Python_Projects\\\\real_estate_analysis\\\\data_files\\\\csv\\\\dim_stadsdelen3.csv', sep=';')\n",
    "df_verkocht_2 = data_prep.prep_df(df_verkocht, df_stadsdelen)\n",
    "\n",
    "\"Create subset\"\n",
    "sub_cols = ['Woonoppervlakte','transactieprijs']\n",
    "df_verkocht_3 = df_verkocht_2[sub_cols]\n",
    "\n",
    "\"Drop NA and divide price by 1000\"\n",
    "df_verkocht_4 = df_verkocht_3.dropna()\n",
    "df_verkocht_4.loc[:,'transactieprijs'] = df_verkocht_4['transactieprijs'].copy() / 1000"
   ]
  },
  {
   "cell_type": "code",
   "execution_count": 57,
   "metadata": {},
   "outputs": [],
   "source": [
    "\"STEP 1: Choose a class of model.\"\n",
    "from sklearn.linear_model import LinearRegression"
   ]
  },
  {
   "cell_type": "code",
   "execution_count": 58,
   "metadata": {},
   "outputs": [],
   "source": [
    "\"STEP 2: Choose model hyperparameters.\"\n",
    "model = LinearRegression ( fit_intercept = True )"
   ]
  },
  {
   "cell_type": "code",
   "execution_count": 59,
   "metadata": {},
   "outputs": [],
   "source": [
    "\"STEP 3: Arrange data into a features matrix and target vector.\"\n",
    "X = df_verkocht_4.drop('transactieprijs', axis='columns')\n",
    "y = df_verkocht_4['transactieprijs']"
   ]
  },
  {
   "cell_type": "code",
   "execution_count": 60,
   "metadata": {},
   "outputs": [
    {
     "data": {
      "text/plain": [
       "LinearRegression(copy_X=True, fit_intercept=True, n_jobs=None, normalize=False)"
      ]
     },
     "execution_count": 60,
     "metadata": {},
     "output_type": "execute_result"
    }
   ],
   "source": [
    "\"STEP 4: Fit the model to your data.\"\n",
    "model.fit( X , y )"
   ]
  },
  {
   "cell_type": "code",
   "execution_count": 63,
   "metadata": {},
   "outputs": [
    {
     "data": {
      "text/plain": [
       "array([3.49015856e+03, 1.41220915e+05, 1.34662308e+05, ...,\n",
       "       2.76466390e+06, 5.99149877e+06, 4.02391653e+06])"
      ]
     },
     "execution_count": 63,
     "metadata": {},
     "output_type": "execute_result"
    }
   ],
   "source": [
    "\"STEP 5: Predict labels for unknown data.\"\n",
    "#input = [[500] , [345]]\n",
    "#model.predict(X)"
   ]
  },
  {
   "cell_type": "code",
   "execution_count": 66,
   "metadata": {},
   "outputs": [],
   "source": [
    "import mlflow\n",
    "import mlflow.sklearn\n",
    "import shutil"
   ]
  },
  {
   "cell_type": "code",
   "execution_count": 67,
   "metadata": {},
   "outputs": [],
   "source": [
    "model_path = 'models/real_estate_regression'"
   ]
  },
  {
   "cell_type": "code",
   "execution_count": 68,
   "metadata": {},
   "outputs": [],
   "source": [
    "#shutil.rmtree(model_path)\n",
    "mlflow.sklearn.save_model(model, model_path)"
   ]
  },
  {
   "cell_type": "code",
   "execution_count": null,
   "metadata": {},
   "outputs": [],
   "source": []
  }
 ],
 "metadata": {
  "kernelspec": {
   "display_name": "real_estate_venv",
   "language": "python",
   "name": "real_estate_venv"
  },
  "language_info": {
   "codemirror_mode": {
    "name": "ipython",
    "version": 3
   },
   "file_extension": ".py",
   "mimetype": "text/x-python",
   "name": "python",
   "nbconvert_exporter": "python",
   "pygments_lexer": "ipython3",
   "version": "3.7.0"
  }
 },
 "nbformat": 4,
 "nbformat_minor": 2
}
